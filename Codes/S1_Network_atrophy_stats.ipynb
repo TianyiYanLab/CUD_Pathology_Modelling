{
 "cells": [
  {
   "cell_type": "code",
   "execution_count": 1,
   "metadata": {},
   "outputs": [],
   "source": [
    "import os, sys\n",
    "import scipy.io\n",
    "import numpy as np\n",
    "import matplotlib.pyplot as plt\n",
    "from neuromaps.images import load_data\n",
    "from neuromaps.images import dlabel_to_gifti\n",
    "from netneurotools import datasets as nntdata\n",
    "from nilearn.datasets import fetch_atlas_schaefer_2018\n",
    "from statsmodels.stats.multitest import multipletests\n",
    "from scipy.io import loadmat, savemat\n",
    "from neuromaps import images, nulls\n",
    "\n",
    "\n",
    "ref_path = r\"D:\\OneDrive\\References\\Farahani_ALS-main\\codes\" ## https://github.com/netneurolab/Farahani_ALS/tree/main/codes\n",
    "\n",
    "sys.path.append(ref_path)\n",
    "from functions import (parcel2fsLR,\n",
    "                       save_gifti,\n",
    "                       vasa_null_Schaefer)\n",
    "from globals import path_results, path_fig, nnodes, path_atlas, path_surface, path_wb_command"
   ]
  },
  {
   "cell_type": "code",
   "execution_count": 2,
   "metadata": {},
   "outputs": [],
   "source": [
    "nspins  = 1000  # number of null realizations for the spin test\n",
    "\n",
    "#------------------------------------------------------------------------------\n",
    "# Load group-averegd W-score data of SUDMEX_TMS\n",
    "#------------------------------------------------------------------------------\n",
    "tmp  = loadmat(f'D:\\\\5_TMS_response\\\\CT_Wscore53avg_S400_7Net_vHCP2.mat')\n",
    "disease_profile = tmp['Wscore_s400_7Net'].squeeze()"
   ]
  },
  {
   "cell_type": "code",
   "execution_count": 3,
   "metadata": {},
   "outputs": [],
   "source": [
    "#------------------------------------------------------------------------------\n",
    "# Load von-economo atlas information\n",
    "#------------------------------------------------------------------------------\n",
    "def load_von_economo_atlas(path_in, nnodes):\n",
    "    atlas_data = np.squeeze(scipy.io.loadmat(path_in + 'economo_Schaefer400.mat')['pdata'])\n",
    "    return atlas_data - 1, ['primary motor',\n",
    "                            'association',\n",
    "                            'association',\n",
    "                            'primary/secondary sensory',\n",
    "                            'primary sensory',\n",
    "                            'limbic',\n",
    "                            'insular']\n",
    "def load_Yeo7_atlas(path_in, nnodes):\n",
    "    atlas_data = np.squeeze(scipy.io.loadmat(path_in + 'Yeo7_Schaefer400.mat')['yeodata'])\n",
    "    return atlas_data - 1, ['visual',\n",
    "                            'somatomotor',\n",
    "                            'dorsal attention',\n",
    "                            'salience/ventral attention',\n",
    "                            'limbic',\n",
    "                            'control',\n",
    "                            'default']\n",
    "    \n",
    "    \n",
    "\n",
    "atlas_7Network_von, label_von_networks = load_von_economo_atlas(path_atlas, nnodes)\n",
    "atlas_7Network_yeo, label_yeo_networks = load_Yeo7_atlas(path_atlas, nnodes)\n",
    "num_labels = len(label_von_networks)"
   ]
  },
  {
   "cell_type": "code",
   "execution_count": 5,
   "metadata": {},
   "outputs": [],
   "source": [
    "import numpy as np\n",
    "from scipy.stats import ttest_1samp\n",
    "from statsmodels.stats.multitest import multipletests\n",
    "\n",
    "def compute_network_ttest_vs_zero(disease_profile, atlas_labels_array, atlas_label_names):\n",
    "    \"\"\"\n",
    "    Within each network, a two-tailed one-sample t-test was performed to \n",
    "    determine whether its W-score significantly deviated from zero (indicating cortical thinning or thickening)\n",
    "\n",
    "    inputs：\n",
    "        disease_profile : array, shape (nnodes,)\n",
    "        atlas_labels_array : array, shape (nnodes,)   \n",
    "        atlas_label_names : list of str\n",
    "            \n",
    "\n",
    "    outputs:\n",
    "        result_dict :\n",
    "            - \"network\": list of network names\n",
    "            - \"mean_value\": mean W-score for each network\n",
    "            - \"p_value\": raw p-value from the two-tailed test\n",
    "            - \"p_fdr\": FDR-corrected p-value\n",
    "    \"\"\"\n",
    "\n",
    "    num_labels = len(atlas_label_names)\n",
    "    mean_values = []\n",
    "    p_values = []\n",
    "\n",
    "    for i in range(num_labels):\n",
    "        # extract the W-score\n",
    "        mask = atlas_labels_array == i\n",
    "        scores = disease_profile[mask]\n",
    "        scores = scores[~np.isnan(scores)]  # remove NaN\n",
    "\n",
    "        mean_values.append(np.mean(scores))\n",
    "\n",
    "        # two-tailed one-sample t-test: H0: μ == 0\n",
    "        t_stat, p = ttest_1samp(scores, popmean=0)\n",
    "        p_values.append(p)  \n",
    "\n",
    "    # FDR correction\n",
    "    p_fdr = multipletests(p_values, method='fdr_bh')[1]\n",
    "\n",
    "    result_dict = {\n",
    "        \"network\": atlas_label_names,\n",
    "        \"mean_value\": mean_values,\n",
    "        \"p_value\": p_values,\n",
    "        \"p_fdr\": p_fdr\n",
    "    }\n",
    "\n",
    "    return result_dict"
   ]
  },
  {
   "cell_type": "code",
   "execution_count": 18,
   "metadata": {},
   "outputs": [
    {
     "name": "stdout",
     "output_type": "stream",
     "text": [
      "visual               | Mean = -0.2486 | p = 0.0000 | pFDR = 0.0000\n",
      "somatomotor          | Mean = -0.0172 | p = 0.5418 | pFDR = 0.5418\n",
      "dorsal attention     | Mean = -0.1821 | p = 0.0000 | pFDR = 0.0000\n",
      "salience/ventral attention | Mean = -0.1632 | p = 0.0000 | pFDR = 0.0000\n",
      "limbic               | Mean = 0.1062 | p = 0.0772 | pFDR = 0.0901\n",
      "control              | Mean = -0.2207 | p = 0.0000 | pFDR = 0.0000\n",
      "default              | Mean = -0.0797 | p = 0.0005 | pFDR = 0.0006\n"
     ]
    }
   ],
   "source": [
    "result = compute_network_ttest_vs_zero(\n",
    "    disease_profile=disease_profile,\n",
    "    atlas_labels_array=atlas_7Network_yeo,\n",
    "    atlas_label_names=label_yeo_networks\n",
    ")\n",
    "for name, mean, p, pfdr in zip(result[\"network\"], result[\"mean_value\"], result[\"p_value\"], result[\"p_fdr\"]):\n",
    "    print(f\"{name:<20} | Mean = {mean:.4f} | p = {p:.4f} | pFDR = {pfdr:.4f}\")"
   ]
  },
  {
   "cell_type": "code",
   "execution_count": 6,
   "metadata": {},
   "outputs": [
    {
     "name": "stdout",
     "output_type": "stream",
     "text": [
      "primary motor        | Mean = -0.0629 | p = 0.2102 | pFDR = 0.2452\n",
      "association          | Mean = -0.1264 | p = 0.0000 | pFDR = 0.0000\n",
      "association          | Mean = -0.0628 | p = 0.0258 | pFDR = 0.0570\n",
      "primary/secondary sensory | Mean = -0.2564 | p = 0.0000 | pFDR = 0.0000\n",
      "primary sensory      | Mean = -0.1414 | p = 0.0326 | pFDR = 0.0570\n",
      "limbic               | Mean = -0.0580 | p = 0.1456 | pFDR = 0.2038\n",
      "insular              | Mean = -0.0334 | p = 0.6251 | pFDR = 0.6251\n"
     ]
    }
   ],
   "source": [
    "result = compute_network_ttest_vs_zero(\n",
    "    disease_profile=disease_profile,\n",
    "    atlas_labels_array=atlas_7Network_von,\n",
    "    atlas_label_names=label_von_networks\n",
    ")\n",
    "for name, mean, p, pfdr in zip(result[\"network\"], result[\"mean_value\"], result[\"p_value\"], result[\"p_fdr\"]):\n",
    "    print(f\"{name:<20} | Mean = {mean:.4f} | p = {p:.4f} | pFDR = {pfdr:.4f}\")"
   ]
  },
  {
   "cell_type": "code",
   "execution_count": 9,
   "metadata": {},
   "outputs": [
    {
     "name": "stdout",
     "output_type": "stream",
     "text": [
      "(61,)\n",
      "(77,)\n",
      "(46,)\n",
      "(47,)\n",
      "(26,)\n",
      "(52,)\n",
      "(91,)\n"
     ]
    }
   ],
   "source": [
    "##visualization the results\n",
    "def plot_boxplot(nulls,path_fig=None, name_to_save=None):\n",
    "    \"\"\"\n",
    "    Create a box plot for the null distribution\n",
    "    and visualize the actual value on top\n",
    "    \"\"\"\n",
    "    fig, axes = plt.subplots(figsize = (7, 4))\n",
    "    axes.boxplot(nulls, vert=True,flierprops=dict(markersize=6))\n",
    "    \n",
    "    axes.spines['top'].set_visible(False)\n",
    "    axes.spines['right'].set_visible(False)\n",
    "    axes.spines['bottom'].set_visible(False)\n",
    "    \n",
    "    plt.tight_layout()\n",
    "    if name_to_save:\n",
    "        plt.savefig(os.path.join(path_fig, name_to_save + '.pdf'),dpi=300)\n",
    "    plt.show()\n",
    "    \n",
    "\n",
    "# Get actual/real values for each network  YEO\n",
    "network_specific_disease_measure_yeo =  []\n",
    "for label_ind in range(num_labels):\n",
    "    temp = []\n",
    "    for roi_ind in range(nnodes):\n",
    "        if atlas_7Network_yeo[roi_ind] == label_ind:\n",
    "            temp.append(disease_profile[roi_ind])\n",
    "    print(np.array(temp).shape)\n",
    "    network_specific_disease_measure_yeo.append(np.array(temp))   "
   ]
  },
  {
   "cell_type": "code",
   "execution_count": 16,
   "metadata": {},
   "outputs": [
    {
     "data": {
      "image/png": "[encoded data removed]",
      "text/plain": [
       "<Figure size 700x400 with 1 Axes>"
      ]
     },
     "metadata": {},
     "output_type": "display_data"
    }
   ],
   "source": [
    "## sort the data YEO\n",
    "row_medians = [np.nanmedian(arr) for arr in network_specific_disease_measure_yeo]\n",
    "sorted_indices_Yeo = np.argsort(row_medians)[::-1]\n",
    "sorted_Yeo_data_TMS = [network_specific_disease_measure_yeo[i] for i in sorted_indices_Yeo]\n",
    "plot_boxplot(sorted_Yeo_data_TMS,path_fig='D:\\\\OneDrive\\\\5_TMS_response\\\\',\n",
    "             name_to_save='CT_Wscore53avg_S400_7Net_vHCP2_Yeo_hor')"
   ]
  },
  {
   "cell_type": "code",
   "execution_count": 7,
   "metadata": {},
   "outputs": [
    {
     "name": "stdout",
     "output_type": "stream",
     "text": [
      "(26,)\n",
      "(155,)\n",
      "(77,)\n",
      "(64,)\n",
      "(23,)\n",
      "(39,)\n",
      "(16,)\n"
     ]
    }
   ],
   "source": [
    "# Get actual/real values for each network VON\n",
    "network_specific_disease_measure_von =  []\n",
    "for label_ind in range(num_labels):\n",
    "    temp = []\n",
    "    for roi_ind in range(nnodes):\n",
    "        if atlas_7Network_von[roi_ind] == label_ind:\n",
    "            temp.append(disease_profile[roi_ind])\n",
    "    print(np.array(temp).shape)\n",
    "    network_specific_disease_measure_von.append(np.array(temp))   "
   ]
  },
  {
   "cell_type": "code",
   "execution_count": 10,
   "metadata": {},
   "outputs": [
    {
     "data": {
      "image/png": "[encoded data removed]",
      "text/plain": [
       "<Figure size 700x400 with 1 Axes>"
      ]
     },
     "metadata": {},
     "output_type": "display_data"
    }
   ],
   "source": [
    "## sort the data VON\n",
    "row_medians = [np.nanmedian(arr) for arr in network_specific_disease_measure_von]\n",
    "sorted_indices_von = np.argsort(row_medians)[::-1]\n",
    "sorted_von_data_TMS = [network_specific_disease_measure_von[i] for i in sorted_indices_von]\n",
    "plot_boxplot(sorted_von_data_TMS,path_fig='D:\\\\OneDrive\\\\5_TMS_response\\\\',\n",
    "             name_to_save='CT_Wscore53avg_S400_7Net_vHCP2_von_hor')"
   ]
  }
 ],
 "metadata": {
  "kernelspec": {
   "display_name": "Python 3",
   "language": "python",
   "name": "python3"
  },
  "language_info": {
   "codemirror_mode": {
    "name": "ipython",
    "version": 3
   },
   "file_extension": ".py",
   "mimetype": "text/x-python",
   "name": "python",
   "nbconvert_exporter": "python",
   "pygments_lexer": "ipython3",
   "version": "3.9.13"
  }
 },
 "nbformat": 4,
 "nbformat_minor": 2
}
