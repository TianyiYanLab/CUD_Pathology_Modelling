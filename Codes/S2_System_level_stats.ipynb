{
 "cells": [
  {
   "cell_type": "code",
   "execution_count": 3,
   "metadata": {},
   "outputs": [],
   "source": [
    "import os, sys\n",
    "import scipy.io\n",
    "import numpy as np\n",
    "import matplotlib.pyplot as plt\n",
    "from neuromaps.images import load_data\n",
    "from neuromaps.images import dlabel_to_gifti\n",
    "from netneurotools import datasets as nntdata\n",
    "from nilearn.datasets import fetch_atlas_schaefer_2018\n",
    "from statsmodels.stats.multitest import multipletests\n",
    "from scipy.io import loadmat, savemat\n",
    "from neuromaps import images, nulls\n",
    "from scipy.stats import pearsonr\n",
    "\n",
    "ref_path = r\"D:\\OneDrive\\\\References\\Farahani_ALS-main\\codes\"  ## https://github.com/netneurolab/Farahani_ALS/tree/main/codes\n",
    "\n",
    "sys.path.append(ref_path)\n",
    "\n",
    "from globals import path_results, path_fig, nnodes, path_atlas, path_surface, path_wb_command\n"
   ]
  },
  {
   "cell_type": "code",
   "execution_count": 4,
   "metadata": {},
   "outputs": [],
   "source": [
    "#------------------------------------------------------------------------------\n",
    "# Load von-economo atlas information\n",
    "#------------------------------------------------------------------------------\n",
    "def load_von_economo_atlas(path_in, nnodes):\n",
    "    atlas_data = np.squeeze(scipy.io.loadmat(path_in + 'economo_Schaefer400.mat')['pdata'])\n",
    "    return atlas_data - 1, ['primary motor',\n",
    "                            'association',\n",
    "                            'association',\n",
    "                            'primary/secondary sensory',\n",
    "                            'primary sensory',\n",
    "                            'limbic',\n",
    "                            'insular']\n",
    "def load_Yeo7_atlas(path_in, nnodes):\n",
    "    atlas_data = np.squeeze(scipy.io.loadmat(path_in + 'Yeo7_Schaefer400.mat')['yeodata'])\n",
    "    return atlas_data - 1, ['visual',\n",
    "                            'somatomotor',\n",
    "                            'dorsal attention',\n",
    "                            'salience/ventral attention',\n",
    "                            'limbic',\n",
    "                            'control',\n",
    "                            'default']\n",
    "    \n",
    "    \n",
    "atlas_7Network_von, label_von_networks = load_von_economo_atlas(path_atlas, nnodes)\n",
    "atlas_7Network_yeo, label_yeo_networks = load_Yeo7_atlas(path_atlas, nnodes)\n",
    "num_labels = len(label_von_networks)\n",
    "# savemat('atlas_7Network_yeo.mat',{'Yeo_label':atlas_7Network_yeo})"
   ]
  },
  {
   "cell_type": "code",
   "execution_count": 7,
   "metadata": {},
   "outputs": [],
   "source": [
    "#------------------------------------------------------------------------------\n",
    "# Load group-averegd W-score data \n",
    "#------------------------------------------------------------------------------\n",
    "tmp  = loadmat(f'D:\\\\OneDrive\\\\5_TMS_response\\\\CT_Wscore53avg_S400_7Net_vHCP2.mat')\n",
    "disease_profile = tmp['Wscore_s400_7Net'].squeeze()\n",
    "\n",
    "#------------------------------------------------------------------------------\n",
    "# Load SC ##https://github.com/netneurolab/hansen_many_networks/tree/085151024a2f8dda1f07ce13e946def1aec93f17/data/Schaefer400\n",
    "#------------------------------------------------------------------------------\n",
    "hansen_dir ='D:\\\\OneDrive\\\\References\\\\hansen_many_networks-master\\\\data\\\\Schaefer400\\\\'\n",
    "sc = np.load(hansen_dir + 'consensusSC.npy')\n"
   ]
  },
  {
   "cell_type": "code",
   "execution_count": 8,
   "metadata": {},
   "outputs": [],
   "source": [
    "def compute_neighbor_W_means(G, disease_profile, Yeo7_label, num_networks=7):\n",
    "    \"\"\"\n",
    "    Compute the mean W-score value of each node’s neighbors within each of the Yeo7 networks.\n",
    "    \n",
    "    Parameters:\n",
    "        G (ndarray):adjacency matrix (N x N)\n",
    "        disease_profile (ndarray): W-score values for each node\n",
    "        Yeo7_label (ndarray): Yeo7 network label for each node \n",
    "        num_networks (int): Number of networks\n",
    "\n",
    "    Returns:\n",
    "        nei_Yeo (ndarray): Mean W-score of each node’s neighbors within each network (N × 7)\n",
    "    \"\"\"\n",
    "    nodenum = G.shape[0]\n",
    "    nei_Yeo = np.zeros((nodenum, num_networks))\n",
    "\n",
    "    for i in range(nodenum):\n",
    "        neighbors = np.where(G[:, i] != 0)[0]\n",
    "        neighbor_W = disease_profile[neighbors]\n",
    "        neighbor_labels = Yeo7_label[neighbors]\n",
    "        \n",
    "        for j in range(num_networks):\n",
    "            label_indices = np.where(neighbor_labels == j)[0]\n",
    "            if len(label_indices) > 0:\n",
    "                nei_Yeo[i, j] = np.mean(neighbor_W[label_indices])\n",
    "            else:\n",
    "                nei_Yeo[i, j] = np.nan  \n",
    "    return nei_Yeo\n"
   ]
  },
  {
   "cell_type": "code",
   "execution_count": 9,
   "metadata": {},
   "outputs": [],
   "source": [
    "def compute_system_level_correlation(disease_profile, atlas_7Network_yeo, nei_Yeo, min_valid=10):\n",
    "    \"\"\"\n",
    "    Compute the correlation between networks (Figure 2D)\n",
    "\n",
    "    Parameters:\n",
    "        disease_profile (ndarray): W-score values for each node\n",
    "        atlas_7Network_yeo (ndarray): Yeo7 network label for each node\n",
    "        nei_Yeo (ndarray): Mean neighbor W-score values of each node across networks (N x 7)\n",
    "        min_valid (int): Minimum number of valid data points required. Default is 10.\n",
    "\n",
    "    Returns:\n",
    "        r_yeo (ndarray): Correlation matrix between networks (7 x 7)\n",
    "    \"\"\"\n",
    "    from statsmodels.stats.multitest import fdrcorrection\n",
    "\n",
    "\n",
    "    num_networks = 7\n",
    "    r_yeo = np.zeros((num_networks, num_networks))\n",
    "    p_yeo = np.ones((num_networks, num_networks))\n",
    "\n",
    "    for i in range(num_networks):\n",
    "        indices_i = np.where(atlas_7Network_yeo == i)[0]\n",
    "        T_i = disease_profile[indices_i]\n",
    "        for j in range(num_networks):\n",
    "            nei_j = nei_Yeo[indices_i, j]\n",
    "            valid = ~np.isnan(nei_j)\n",
    "            if np.sum(valid) < min_valid:\n",
    "                r_yeo[i , j ] = 0\n",
    "                p_yeo[i , j ] = 1\n",
    "            else:\n",
    "                r, p = pearsonr(T_i[valid], nei_j[valid])\n",
    "                n = np.sum(valid)\n",
    "                adj_rs = 1 - (1 - r**2) * (n - 1) / (n - 2)\n",
    "                adj_rs = max(0, adj_rs)  # ensure non-negativity\n",
    "                \n",
    "                r_yeo[i , j] = np.sign(r) * np.sqrt(adj_rs)\n",
    "                p_yeo[i , j] = p\n",
    "    p_flat = p_yeo.flatten()\n",
    "    _, p_fdr_flat = fdrcorrection(p_flat)\n",
    "\n",
    "\n",
    "    p_fdr_flat = p_fdr_flat.reshape(p_yeo.shape)\n",
    "    \n",
    "    return r_yeo, p_fdr_flat"
   ]
  },
  {
   "cell_type": "code",
   "execution_count": 12,
   "metadata": {},
   "outputs": [],
   "source": [
    "##  YEO\n",
    "nei_Yeo = compute_neighbor_W_means(sc, disease_profile, atlas_7Network_yeo)\n",
    "r_yeo, p_fdr_yeo = compute_system_level_correlation(disease_profile, atlas_7Network_yeo, nei_Yeo)\n",
    "mask_yeo = p_fdr_yeo >= 0.05\n"
   ]
  },
  {
   "cell_type": "code",
   "execution_count": 13,
   "metadata": {},
   "outputs": [],
   "source": [
    "## VON \n",
    "nei_Von = compute_neighbor_W_means(sc, disease_profile, atlas_7Network_von)\n",
    "r_von, p_fdr_von = compute_system_level_correlation(disease_profile, atlas_7Network_von, nei_Von)\n",
    "mask_von = p_fdr_von >= 0.05\n"
   ]
  },
  {
   "cell_type": "code",
   "execution_count": 14,
   "metadata": {},
   "outputs": [
    {
     "data": {
      "image/png": "[encoded data removed]",
      "text/plain": [
       "<Figure size 600x600 with 2 Axes>"
      ]
     },
     "metadata": {},
     "output_type": "display_data"
    }
   ],
   "source": [
    "import matplotlib.pyplot as plt\n",
    "import seaborn as sns\n",
    "##Yeo\n",
    "plt.figure(figsize=(6, 6))\n",
    "sns.heatmap(r_yeo, \n",
    "            mask=mask_yeo, \n",
    "            cmap=\"OrRd\", \n",
    "            square=True, \n",
    "            linewidths=.75, \n",
    "            linecolor='grey', \n",
    "            cbar=True,\n",
    "            vmin=-0.7,\n",
    "            vmax=0.7)\n",
    "\n",
    "plt.title(\"Heatmap (p < 0.05 only)\")\n",
    "current_dir = os.getcwd()\n",
    "plt.savefig(os.path.join(current_dir, 'yeo.pdf'),dpi = 300)\n",
    "plt.show()\n"
   ]
  },
  {
   "cell_type": "code",
   "execution_count": 15,
   "metadata": {},
   "outputs": [
    {
     "data": {
      "image/png": "[encoded data removed]",
      "text/plain": [
       "<Figure size 600x600 with 2 Axes>"
      ]
     },
     "metadata": {},
     "output_type": "display_data"
    }
   ],
   "source": [
    "##Von\n",
    "plt.figure(figsize=(6, 6))\n",
    "sns.heatmap(r_von, \n",
    "            mask=mask_von, \n",
    "            cmap=\"OrRd\", \n",
    "            square=True, \n",
    "            linewidths=.75, \n",
    "            linecolor='grey', \n",
    "            cbar=True,\n",
    "            vmin=-0.7,\n",
    "            vmax=0.7)\n",
    "\n",
    "plt.title(\"Heatmap (p < 0.05 only)\")\n",
    "current_dir = os.getcwd()\n",
    "plt.savefig(os.path.join(current_dir, 'von.pdf'),dpi = 300)\n",
    "plt.show()\n"
   ]
  }
 ],
 "metadata": {
  "kernelspec": {
   "display_name": "Python 3.9.7 64-bit",
   "language": "python",
   "name": "python3"
  },
  "language_info": {
   "codemirror_mode": {
    "name": "ipython",
    "version": 3
   },
   "file_extension": ".py",
   "mimetype": "text/x-python",
   "name": "python",
   "nbconvert_exporter": "python",
   "pygments_lexer": "ipython3",
   "version": "3.9.7"
  },
  "vscode": {
   "interpreter": {
    "hash": "0a83316360868ec807827c2cca5af0b16f2d820e1f26df32c4621fcda9c1f81d"
   }
  }
 },
 "nbformat": 4,
 "nbformat_minor": 2
}
