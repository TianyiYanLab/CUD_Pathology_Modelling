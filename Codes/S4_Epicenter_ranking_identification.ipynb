{
 "cells": [
  {
   "cell_type": "code",
   "execution_count": 1,
   "metadata": {},
   "outputs": [],
   "source": [
    "import sys\n",
    "import os\n",
    "ref_path = r\"D:\\OneDrive\\\\References\\Farahani_ALS-main\\codes\"  ## https://github.com/netneurolab/Farahani_ALS/tree/main/codes\n",
    "sys.path.append(ref_path)\n",
    "\n",
    "import warnings\n",
    "import numpy as np\n",
    "import scipy.stats as stats\n",
    "import matplotlib.pyplot as plt\n",
    "import seaborn as sns\n",
    "from neuromaps.images import load_data\n",
    "from neuromaps.images import dlabel_to_gifti\n",
    "from netneurotools.datasets import fetch_schaefer2018\n",
    "from functions import parcel2fsLR, save_gifti\n",
    "from globals import path_results, path_sc, path_fig, nnodes, path_networks,path_networks_ALS\n",
    "from functions import save_parcellated_data_in_Schaefer_forVis\n",
    "from scipy.io import loadmat, savemat\n",
    "#References: https://github.com/netneurolab/Farahani_ALS/tree/2ac249a22d1973f4758a9d6c0968c1d9cc73bebf/codes"
   ]
  },
  {
   "cell_type": "code",
   "execution_count": 2,
   "metadata": {},
   "outputs": [],
   "source": [
    "#------------------------------------------------------------------------------\n",
    "# Needed functions\n",
    "#------------------------------------------------------------------------------\n",
    "\n",
    "def get_neighbour_deformation(node_deformation, sc, fc=None, gce =None,rs=None):\n",
    "    '''\n",
    "    compute mean neighbour deformation of each node\n",
    "\n",
    "    Inputs:\n",
    "\n",
    "    node_deformation = n x 1 matrix of node deformations\n",
    "    sc = n x n structural connectivity matrix (binary or weighted)\n",
    "    fc = n x n functional connectivity matrix (optional)\n",
    "\n",
    "    Output:\n",
    "\n",
    "        neighbour_deformation = n x 1 matrix of mean neighbour deformations\n",
    "    '''\n",
    "\n",
    "    nnodes = len(node_deformation)\n",
    "    neighbour_deformation = np.zeros((nnodes,))\n",
    "\n",
    "    FC = np.ones((nnodes, nnodes))\n",
    "    GCE = np.ones((nnodes, nnodes))\n",
    "    RS = np.ones((nnodes, nnodes))\n",
    "\n",
    "\n",
    "    if fc is not None:\n",
    "        FC = fc\n",
    "    if gce is not None:\n",
    "        GCE = gce\n",
    "    if rs is not None:\n",
    "        RS = rs\n",
    "\n",
    "    for i in range(nnodes):\n",
    "        neighbour_deformation[i] = np.mean(node_deformation[sc[i, :] != 0]\n",
    "                                           * FC[sc[i, :] != 0, i]\n",
    "                                           * GCE[sc[i, :] != 0, i]\n",
    "                                           * RS[sc[i, :] != 0, i])\n",
    "\n",
    "    return neighbour_deformation\n",
    "\n",
    "def get_epicentre_likelihood(node_deformation, neighbour_deformation,\n",
    "                             spins=None, nspins=None):\n",
    "    \n",
    "    ## reference: https://github.com/netneurolab/hansen_crossdisorder_vulnerability/blob/54d34055bd765a79777437f362fbaf338403926e/code/02_network_spreading.py#L49\n",
    "    \n",
    "    '''\n",
    "    epicenter likelihood ordered same as node and neighbour deformation\n",
    "\n",
    "    node_deformation: (n, ) array_like\n",
    "        Node deformation ordered such that a small value represents more atrophy.\n",
    "    neighbour_deformation: (n, ) array_like\n",
    "        Neighbour deformation ordered such that a small value represents more atrophy.\n",
    "\n",
    "    Returns\n",
    "    -------\n",
    "    epicentre_likelihood: (n, ) ndarray\n",
    "        Epicentre likelihood, where a larger value represents greater likelihood.\n",
    "    epicentre_pvals: (n, ) ndarray\n",
    "        Spin-test one-tailed p-value of epicentre likelihood.\n",
    "    \n",
    "    '''\n",
    "    a = np.argsort(node_deformation)[::-1]\n",
    "    b = np.zeros((len(a), ))\n",
    "    for k in range(len(a)):\n",
    "        b[a[k]] = k\n",
    "    aa = np.argsort(neighbour_deformation)[::-1]\n",
    "    bb = np.zeros((len(aa), ))\n",
    "    for k in range(len(aa)):\n",
    "        bb[aa[k]] = k\n",
    "\n",
    "    epicentre_likelihood = np.mean(np.stack((b, bb), axis=1), axis=1)\n",
    "    epicentre_pvals = np.ones(epicentre_likelihood.shape)\n",
    "\n",
    "    if spins is not None:\n",
    "        null = np.zeros((len(node_deformation), nspins))\n",
    "        for k in range(nspins):\n",
    "            a = np.argsort(node_deformation[spins[:, k]])[::-1]\n",
    "            b = np.zeros((len(a), ))\n",
    "            for j in range(len(a)):\n",
    "                b[a[j]] = j\n",
    "            null[:, k] = np.mean(np.stack((b, bb), axis=1), axis=1)\n",
    "        epicentre_pvals = (1 + np.sum(null > np.expand_dims(epicentre_likelihood, 1),axis=1)) / (nspins + 1)\n",
    "\n",
    "    return epicentre_likelihood, epicentre_pvals"
   ]
  },
  {
   "cell_type": "code",
   "execution_count": 3,
   "metadata": {},
   "outputs": [],
   "source": [
    "# Load disease atropy map (W-score map)\n",
    "\n",
    "tmp  = loadmat('D:\\\\OneDrive\\\\5_TMS_response\\\\CT_Wscore53avg_S400_7Net_vHCP2.mat')\n",
    "W_score_avg = tmp['Wscore_s400_7Net']\n",
    "disease_profile = np.reshape(W_score_avg, 400)"
   ]
  },
  {
   "cell_type": "code",
   "execution_count": 4,
   "metadata": {},
   "outputs": [],
   "source": [
    "#Load networks\n",
    "## https://github.com/netneurolab/hansen_many_networks/tree/085151024a2f8dda1f07ce13e946def1aec93f17/data/Schaefer400\n",
    "\n",
    "hansen_dir ='D:\\\\OneDrive\\\\GraduateStudent_Phd1\\\\5_SubstanceUse_topography\\\\References\\\\hansen_many_networks-master\\\\data\\\\Schaefer400\\\\'\n",
    "sc = np.load(hansen_dir + 'consensusSC.npy')\n",
    "fc = np.load(hansen_dir + 'haemodynamic_connectivity.npy')\n",
    "\n",
    "gc = np.load(hansen_dir + 'gene_coexpression.npy')\n",
    "rs = np.load(hansen_dir + 'receptor_similarity.npy')"
   ]
  },
  {
   "cell_type": "code",
   "execution_count": 5,
   "metadata": {},
   "outputs": [],
   "source": [
    "#spin test\n",
    "from netneurotools import datasets, freesurfer, stats\n",
    "\n",
    "annot = datasets.fetch_schaefer2018('fsaverage5')\n",
    "annot = annot['400Parcels7Networks']\n",
    "coords, hemi = freesurfer.find_parcel_centroids(lhannot=annot.lh,\n",
    "                                                rhannot=annot.rh,\n",
    "                                                version='fsaverage5',\n",
    "                                                surf='sphere',\n",
    "                                                method='surface')\n",
    "spins = stats.gen_spinsamples(coords, hemi, method='vasa', seed=2345, n_rotate=1000)\n"
   ]
  },
  {
   "cell_type": "code",
   "execution_count": 6,
   "metadata": {},
   "outputs": [],
   "source": [
    "from scipy.io import savemat\n",
    "version ='4modes_dataHansenSSC'\n",
    "\n",
    "epi=get_epicentre_likelihood(disease_profile,get_neighbour_deformation(disease_profile,sc,fc=fc, gce =gc,rs=rs),spins=spins,nspins=1000)\n",
    "epi1 = epi[0]\n",
    "savemat(f\"D:\\\\OneDrive\\\\5_TMS_response\\\\Epicenter\\\\SC\\\\epicenterMap_avgranking_S4007Net_{version}.mat\", {\"my_array\": epi1}) \n"
   ]
  },
  {
   "cell_type": "code",
   "execution_count": 7,
   "metadata": {},
   "outputs": [
    {
     "name": "stderr",
     "output_type": "stream",
     "text": [
      "pixdim[1,2,3] should be non-zero; setting 0 dims to 1\n"
     ]
    }
   ],
   "source": [
    "## check significance of the epicenters\n",
    "from neuromaps import images, nulls\n",
    "from netneurotools import datasets as nntdata\n",
    "nspins=1000\n",
    "rotated_epiMap_TMS = nulls.alexander_bloch(epi1, atlas='fsLR', density='32k', parcellation=dlabel_to_gifti( nntdata.fetch_schaefer2018('fslr32k')['400Parcels7Networks']),\n",
    "                                n_perm=1000, seed=2345)\n",
    "\n",
    "epi1 = np.asarray(epi1).reshape(-1, 1)\n",
    "p_values = (1 + np.sum(rotated_epiMap_TMS > epi1, axis=1)) / (nspins + 1)\n",
    "savemat(f\"D:\\\\OneDrive\\\\5_TMS_response\\\\Epicenter\\\\SC\\\\epicenterMap_avgranking_S4007Net_{version}_pvals.mat\", {\"my_array\": p_values}) \n"
   ]
  }
 ],
 "metadata": {
  "kernelspec": {
   "display_name": "Python 3.9.7 64-bit",
   "language": "python",
   "name": "python3"
  },
  "language_info": {
   "codemirror_mode": {
    "name": "ipython",
    "version": 3
   },
   "file_extension": ".py",
   "mimetype": "text/x-python",
   "name": "python",
   "nbconvert_exporter": "python",
   "pygments_lexer": "ipython3",
   "version": "3.9.7"
  },
  "vscode": {
   "interpreter": {
    "hash": "0a83316360868ec807827c2cca5af0b16f2d820e1f26df32c4621fcda9c1f81d"
   }
  }
 },
 "nbformat": 4,
 "nbformat_minor": 2
}
